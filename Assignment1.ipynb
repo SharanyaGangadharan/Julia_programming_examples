{
 "cells": [
  {
   "cell_type": "markdown",
   "metadata": {},
   "source": [
    "Problem 1"
   ]
  },
  {
   "cell_type": "code",
   "execution_count": 1,
   "metadata": {
    "collapsed": false
   },
   "outputs": [
    {
     "data": {
      "text/plain": [
       "sum_multiples_3_5 (generic function with 1 method)"
      ]
     },
     "execution_count": 1,
     "metadata": {},
     "output_type": "execute_result"
    }
   ],
   "source": [
    "function sum_multiples_3_5(N)\n",
    "    sum_multiples = 0\n",
    "    if N > 1\n",
    "        for index = 1 : N - 1\n",
    "            if (index % 3 == 0 || index % 5 == 0) && index % 15 != 0 \n",
    "                sum_multiples = sum_multiples + index\n",
    "            end\n",
    "        end\n",
    "    end\n",
    "    return sum_multiples\n",
    "end"
   ]
  },
  {
   "cell_type": "code",
   "execution_count": 2,
   "metadata": {
    "collapsed": true
   },
   "outputs": [],
   "source": [
    "using Base.Test\n",
    "@test sum_multiples_3_5(20) == 63\n",
    "@test sum_multiples_3_5(0) == 0\n",
    "@test sum_multiples_3_5(-17) == 0\n",
    "@test sum_multiples_3_5(275) == 14853"
   ]
  },
  {
   "cell_type": "markdown",
   "metadata": {},
   "source": [
    "Problem 2"
   ]
  },
  {
   "cell_type": "code",
   "execution_count": 3,
   "metadata": {
    "collapsed": false
   },
   "outputs": [
    {
     "data": {
      "text/plain": [
       "pattern_count (generic function with 1 method)"
      ]
     },
     "execution_count": 3,
     "metadata": {},
     "output_type": "execute_result"
    }
   ],
   "source": [
    "function pattern_count(text, pattern)\n",
    "    pattern_frequency = 0\n",
    "    text_length = length(text)\n",
    "    pattern_length = length(pattern)\n",
    "    limit = text_length - pattern_length + 1\n",
    "    if text != \"\" && pattern != \"\" \n",
    "        if isalpha(text) && isalpha(pattern)\n",
    "            for index = 1 : limit\n",
    "                if text[index : index + pattern_length - 1] == pattern\n",
    "                    pattern_frequency += 1\n",
    "                end\n",
    "            end\n",
    "        end\n",
    "    end\n",
    "    return pattern_frequency\n",
    "end"
   ]
  },
  {
   "cell_type": "code",
   "execution_count": 4,
   "metadata": {
    "collapsed": true
   },
   "outputs": [],
   "source": [
    "using Base.Test\n",
    "@test pattern_count(\"xyxyxyxyx\",\"xyx\") == 4\n",
    "@test pattern_count(\"a\",\"aa\") == 0\n",
    "@test pattern_count(\"aaaaaa\",\"aa\") == 5\n",
    "@test pattern_count(\" \",\" \") == 0\n",
    "@test pattern_count(\"\",\"\") == 0\n",
    "@test pattern_count(\"Abcde\",\"ab\") == 0\n",
    "@test pattern_count(\"ADGabTabcABabBbCcabcdefDbEaFabcXYabZ\",\"ab\") == 6"
   ]
  },
  {
   "cell_type": "markdown",
   "metadata": {},
   "source": [
    "Problem 3"
   ]
  },
  {
   "cell_type": "code",
   "execution_count": 5,
   "metadata": {
    "collapsed": false
   },
   "outputs": [
    {
     "data": {
      "text/plain": [
       "nth_octaldrome (generic function with 1 method)"
      ]
     },
     "execution_count": 5,
     "metadata": {},
     "output_type": "execute_result"
    }
   ],
   "source": [
    "function nth_octaldrome(n)\n",
    "    od_count = 0\n",
    "    if n > 0\n",
    "        index = 1\n",
    "        while od_count < n\n",
    "            if oct(index) == reverse(oct(index))\n",
    "                od_count += 1\n",
    "            end\n",
    "            if od_count == n\n",
    "                return index\n",
    "            end\n",
    "            index = index + 1\n",
    "        end\n",
    "    else\n",
    "        return 0\n",
    "    end\n",
    "end"
   ]
  },
  {
   "cell_type": "code",
   "execution_count": 6,
   "metadata": {
    "collapsed": true
   },
   "outputs": [],
   "source": [
    "using Base.Test\n",
    "@test nth_octaldrome(9) == 18\n",
    "@test nth_octaldrome(0) == 0\n",
    "@test nth_octaldrome(25) == 146\n",
    "@test nth_octaldrome(-18) == 0\n",
    "@test nth_octaldrome(4) == 4"
   ]
  },
  {
   "cell_type": "markdown",
   "metadata": {},
   "source": [
    "Problem 4"
   ]
  },
  {
   "cell_type": "code",
   "execution_count": 7,
   "metadata": {
    "collapsed": false
   },
   "outputs": [
    {
     "data": {
      "text/plain": [
       "most_frequent_word (generic function with 1 method)"
      ]
     },
     "execution_count": 7,
     "metadata": {},
     "output_type": "execute_result"
    }
   ],
   "source": [
    "function most_frequent_word(str, n)\n",
    "    while str != \"\"\n",
    "        str_length = length(str)\n",
    "        newkey = \"\"\n",
    "        dict = Dict{AbstractString, Integer}()\n",
    "        for i = 1 :(str_length - n + 1)\n",
    "            word = str[i : i + n - 1]\n",
    "            dict[word] = get(dict, word, 0) + 1\n",
    "        end      \n",
    "        max = maximum(values(dict))\n",
    "        for (key, value) in dict\n",
    "            if(value == max)\n",
    "                newkey = newkey * join(\"\") * key\n",
    "            end\n",
    "        end\n",
    "        return newkey\n",
    "    end\n",
    "end"
   ]
  },
  {
   "cell_type": "code",
   "execution_count": 8,
   "metadata": {
    "collapsed": true
   },
   "outputs": [],
   "source": [
    "using Base.Test\n",
    "@test most_frequent_word(\"TCGAAGCTAGACGCTAGTAGCTAGTGTGCA\",4) == \"CTAG\"\"GCTA\"\n",
    "@test most_frequent_word(\"TGCATGCAA\",2) == \"CA\"\"GC\"\"TG\"\n",
    "@test most_frequent_word(\"shagalashagal\",5) == \"hagal\"\"shaga\"\n",
    "@test most_frequent_word(\"ABACABA\",2) == \"BA\"\"AB\"\n",
    "@test most_frequent_word(\"bigdatabigddatabigdata\",4) == \"bigd\"\"data\""
   ]
  },
  {
   "cell_type": "markdown",
   "metadata": {},
   "source": [
    "Problem 5"
   ]
  },
  {
   "cell_type": "code",
   "execution_count": 9,
   "metadata": {
    "collapsed": false
   },
   "outputs": [
    {
     "data": {
      "text/plain": [
       "reverse_complement (generic function with 1 method)"
      ]
     },
     "execution_count": 9,
     "metadata": {},
     "output_type": "execute_result"
    }
   ],
   "source": [
    "function reverse_complement(s)\n",
    "    while s != \"\"\n",
    "        rev = reverse(s)\n",
    "        arr = collect(rev)\n",
    "        if(rev != \"\")\n",
    "            for i in 1 : length(arr)\n",
    "                if arr[i] == 'A'\n",
    "                    arr[i] = 'T'\n",
    "                elseif arr[i] == 'T'\n",
    "                    arr[i] = 'A'\n",
    "                elseif arr[i] == 'G'\n",
    "                    arr[i] = 'C'\n",
    "                elseif arr[i] == 'C'\n",
    "                    arr[i] = 'G'\n",
    "                end\n",
    "            end\n",
    "            rev_comp = join(arr)\n",
    "        end\n",
    "        return rev_comp\n",
    "    end\n",
    "end"
   ]
  },
  {
   "cell_type": "code",
   "execution_count": 10,
   "metadata": {
    "collapsed": true
   },
   "outputs": [],
   "source": [
    "using Base.Test\n",
    "@test reverse_complement(\"GTAGCTACTGCA\") == \"TGCAGTAGCTAC\"\n",
    "@test reverse_complement(\"ACTCGC\") == \"GCGAGT\"\n",
    "@test reverse_complement(\"ACACAC\") == \"GTGTGT\"\n",
    "@test reverse_complement(\"TTT\") == \"AAA\""
   ]
  },
  {
   "cell_type": "raw",
   "metadata": {},
   "source": [
    "Problem 6"
   ]
  },
  {
   "cell_type": "code",
   "execution_count": 11,
   "metadata": {
    "collapsed": false
   },
   "outputs": [
    {
     "data": {
      "text/plain": [
       "gc_content (generic function with 1 method)"
      ]
     },
     "execution_count": 11,
     "metadata": {},
     "output_type": "execute_result"
    }
   ],
   "source": [
    "function gc_content(s)\n",
    "    if s != \"\"\n",
    "        gc_count = 0\n",
    "        arr = collect(s)\n",
    "        for index in 1 : length(arr)\n",
    "            if arr[index] == 'G'\n",
    "                gc_count = gc_count + 1\n",
    "            elseif arr[index] == 'C'\n",
    "                gc_count = gc_count + 1\n",
    "            end\n",
    "        end\n",
    "        gc_content = gc_count / length(s)\n",
    "        return gc_content\n",
    "    else\n",
    "        return \"Invalid\"\n",
    "    end\n",
    "end"
   ]
  },
  {
   "cell_type": "code",
   "execution_count": 12,
   "metadata": {
    "collapsed": true
   },
   "outputs": [],
   "source": [
    "using Base.Test\n",
    "@test gc_content(\"GCAA\") == 0.5\n",
    "@test gc_content(\"ACTTAATT\") == 0.125\n",
    "@test gc_content(\"GCCGGCG\") == 1\n",
    "@test gc_content(\"AATTATATA\") == 0\n",
    "@test gc_content(\"\") == \"Invalid\""
   ]
  },
  {
   "cell_type": "markdown",
   "metadata": {},
   "source": [
    "Problem 7 (Assuming that the decimal point in a Floating-Point number has an integer value of 2)"
   ]
  },
  {
   "cell_type": "code",
   "execution_count": 13,
   "metadata": {
    "collapsed": false
   },
   "outputs": [
    {
     "data": {
      "text/plain": [
       "digit_distribution (generic function with 1 method)"
      ]
     },
     "execution_count": 13,
     "metadata": {},
     "output_type": "execute_result"
    }
   ],
   "source": [
    "function digit_distribution(arr)\n",
    "    dict = Dict{Integer, Integer}()\n",
    "    str = \"\"\n",
    "    for index in arr\n",
    "        str = str * join(index)\n",
    "    end\n",
    "    for digit in str\n",
    "        if digit != '.'\n",
    "            digit = parse(Int, digit)\n",
    "            dict[digit] = get(dict, digit, 0) + 1\n",
    "        end\n",
    "    end\n",
    "    return dict \n",
    "end"
   ]
  },
  {
   "cell_type": "code",
   "execution_count": 14,
   "metadata": {
    "collapsed": true
   },
   "outputs": [],
   "source": [
    "using Base.Test\n",
    "@test digit_distribution([112, 24, 15]) == Dict( 1 => 3, 2 => 2, 4 => 1, 5 => 1)\n",
    "@test digit_distribution([22, 119, 323.7]) == Dict(0 => 2, 9 => 1, 7 => 1, 2 => 3, 3 => 2, 1 => 2)\n",
    "@test digit_distribution([215.3, 111.9]) == Dict(9 => 1, 2 => 1, 3 => 1, 5 => 1, 1 => 4)\n",
    "@test digit_distribution([102938475, 2198742, 123000, 937456]) == Dict(0 => 4, 9 => 3, 4 => 3, 7 => 3, 2 => 4, 3 => 3, 8 => 2, 5 => 2, 6 => 1, 1 => 3)"
   ]
  },
  {
   "cell_type": "code",
   "execution_count": 24,
   "metadata": {
    "collapsed": false
   },
   "outputs": [
    {
     "name": "stdout",
     "output_type": "stream",
     "text": [
      "Grading: Error During Test\n",
      "  Got an exception of type ErrorException outside of a @test\n",
      "  test failed: \"CTAGGCTA\" == ASCIIString[\"CTAG\",\"GCTA\"]\n",
      "   in expression: most_frequent_word(\"TCGAAGCTAGACGCTAGTAGCTAGTGTGCA\",4) == sort([\"CTAG\",\"GCTA\"])\n",
      "   in error at /Applications/Julia-0.4.6.app/Contents/Resources/julia/lib/julia/sys.dylib\n",
      "   in default_handler at test.jl:28\n",
      "   in do_test at test.jl:53\n",
      "   [inlined code] from In[24]:32\n",
      "   in anonymous at no file:0\n",
      "   in include_string at loading.jl:282\n",
      "   in execute_request at /Users/whitney/.julia/v0.4/IJulia/src/execute_request.jl:164\n",
      "   in eventloop at /Users/whitney/.julia/v0.4/IJulia/src/IJulia.jl:138\n",
      "   in anonymous at task.jl:447\n",
      "Test Summary: | Error  Total\n",
      "Grading       |     1      1\n"
     ]
    },
    {
     "ename": "LoadError",
     "evalue": "LoadError: Some tests did not pass: 0 passed, 0 failed, 1 errored.\nwhile loading In[24], in expression starting on line 3",
     "output_type": "error",
     "traceback": [
      "LoadError: Some tests did not pass: 0 passed, 0 failed, 1 errored.\nwhile loading In[24], in expression starting on line 3",
      "",
      " in finish at /Users/whitney/.julia/v0.4/BaseTestNext/src/BaseTestNext.jl:385",
      " [inlined code] from /Users/whitney/.julia/v0.4/BaseTestNext/src/BaseTestNext.jl:559",
      " in anonymous at no file:0"
     ]
    }
   ],
   "source": [
    "using BaseTestNext\n",
    "const Test = BaseTestNext\n",
    "@testset \"Grading\" begin\n",
    "\t@test sum_multiples_3_5(1) == 0\n",
    "\t@test sum_multiples_3_5(4) == 3\n",
    "\t@test sum_multiples_3_5(20) == 63\n",
    "\t@test sum_multiples_3_5(0) == 0\n",
    "\t@test sum_multiples_3_5(15) == 45\n",
    "\t@test sum_multiples_3_5(21) == 83\n",
    "\n",
    "\n",
    "\t#@test pattern_count(\"\", \"\") == 0\n",
    "\t#@test pattern_count(\"abv\", \"\") == 0\n",
    "\t#@test pattern_count(\"\", \"abc\") == 0\n",
    "\t#@test pattern_count(\"Abcde\", \"\") == 0\n",
    "\t@test pattern_count(\"abababa\", \"aba\") == 3\n",
    "\t@test pattern_count(\"aaaaa\", \"aa\") == 4\n",
    "\t@test pattern_count(\"Abcde\", \"abc\") == 0\n",
    "#\t@test pattern_count(\"13\",\"13\") == 1\n",
    "\t@test pattern_count(\"testString\", \"this pattern is longer than test str\") == 0\n",
    "\n",
    "\t@test nth_octaldrome(1) == 1\n",
    "\t@test nth_octaldrome(2) == 2\n",
    "\t@test nth_octaldrome(9) == 18\n",
    "\t@test nth_octaldrome(11) == 36\n",
    "\t#@test nth_octaldrome(0) == 0\n",
    "\t@test nth_octaldrome(100) == 2412\n",
    "\n",
    "\t#@test most_frequent_word(\"\", 1) == \"\"\n",
    "\t#@test most_frequent_word(\"TEST\", 5) == \"\"\t\n",
    "#\t@test most_frequent_word(\"Tt\", 1) == sort([\"T\", \"t\"])\n",
    "\t@test most_frequent_word(\"TCGAAGCTAGACGCTAGTAGCTAGTGTGCA\", 4) == sort([\"CTAG\", \"GCTA\"])\n",
    "\t@test most_frequent_word(\"12345123\", 3) == [\"123\"]\n",
    "\t@test most_frequent_word(\"AABBCC\", 2) == sort([\"CC\", \"BC\", \"BB\", \"AB\", \"AA\"])\n",
    "\n",
    "\t@test reverse_complement(\"TCGA\") == \"TCGA\"\n",
    "\t@test reverse_complement(\"TCG\") == \"CGA\"\n",
    "\t@test reverse_complement(\"GTCA\") == \"TGAC\"\n",
    "\n",
    "\t@test gc_content(\"AGCTATAG\") == .375\n",
    "\t@test gc_content(\"ATTATTTA\") == 0\n",
    "\t@test gc_content(\"CGGGCCC\") == 1\n",
    "\t@test gc_content(\"CGGGCCCGCCGG\") == 1\n",
    "\t@test gc_content(\"AC\") == .5\n",
    "\t@test gc_content(\"GT\") == .5\n",
    "\n",
    "\t@test digit_distribution([112, 24, 15]) == Dict( 1 => 3, 2 => 2, 4 => 1, 5 => 1)\n",
    "\t@test digit_distribution([12345]) == Dict( 1 => 1, 2 => 1, 3 => 1, 4 => 1, 5 => 1)\n",
    "\t@test digit_distribution([12345, 123, 45]) == Dict( 1 => 2, 2 => 2, 3 => 2, 4 => 2, 5 => 2)\n",
    "\t@test digit_distribution([11.2, 2.4, 1.5]) == Dict( 1 => 3, 2 => 2, 4 => 1, 5 => 1)\n",
    "end"
   ]
  },
  {
   "cell_type": "markdown",
   "metadata": {},
   "source": [
    "@test pattern_count(\"13\",\"13\") == 1 fails -1\n",
    "most_frequent_word returns a single string when there are multiple matches -2\n",
    "\n",
    "32/35"
   ]
  }
 ],
 "metadata": {
  "kernelspec": {
   "display_name": "Julia 0.4.6",
   "language": "julia",
   "name": "julia-0.4"
  },
  "language_info": {
   "file_extension": ".jl",
   "mimetype": "application/julia",
   "name": "julia",
   "version": "0.4.6"
  }
 },
 "nbformat": 4,
 "nbformat_minor": 0
}
